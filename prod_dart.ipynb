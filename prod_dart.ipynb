{
 "cells": [
  {
   "cell_type": "code",
   "execution_count": 1,
   "metadata": {},
   "outputs": [],
   "source": [
    "import datetime as dt\n",
    "\n",
    "import pandas as pd\n",
    "\n",
    "from private import DartPrivate\n",
    "from etl_tool import DartFssBroker, DartFssExtractor, DartCorpDfPreproc\n",
    "from etl_tool import DartApiBroker, DartApiExtractor, DartFundamentalDfPreProc"
   ]
  },
  {
   "cell_type": "code",
   "execution_count": 2,
   "metadata": {},
   "outputs": [],
   "source": [
    "dart_fss_broker =  DartFssBroker(DartPrivate.api_key)\n",
    "dart_fss_extractor = DartFssExtractor(dart_fss_broker)\n",
    "\n",
    "dart_api_broker =  DartApiBroker(DartPrivate.api_key)\n",
    "dart_api_extractor = DartApiExtractor(dart_api_broker)"
   ]
  },
  {
   "cell_type": "code",
   "execution_count": 4,
   "metadata": {},
   "outputs": [],
   "source": [
    "corp_df = dart_fss_extractor.extract_corp_df()"
   ]
  },
  {
   "cell_type": "code",
   "execution_count": 6,
   "metadata": {},
   "outputs": [],
   "source": [
    "public_df = DartCorpDfPreproc.filter_public(corp_df)\n",
    "public_df = public_df[public_df[\"corp_cls\"].isin([\"Y\", \"K\"])]"
   ]
  },
  {
   "cell_type": "code",
   "execution_count": 8,
   "metadata": {},
   "outputs": [],
   "source": [
    "today = dt.date.today()\n",
    "\n",
    "bsns_years = [str(today.year - i) for i in range(6)]\n",
    "reprt_codes = [\"11013\", \"11012\", \"11014\", \"11011\"]\n",
    "corp_codes = list(set(public_df[\"corp_code\"]))"
   ]
  },
  {
   "cell_type": "code",
   "execution_count": 9,
   "metadata": {},
   "outputs": [],
   "source": [
    "fundamental_df_list = list()\n",
    "for bsns_year in bsns_years:\n",
    "    for reprt_code in reprt_codes:\n",
    "        _fundamental_df = dart_api_extractor.extract_multi_fundamental_df(\n",
    "            corp_codes=corp_codes, bsns_year=bsns_year, reprt_code=reprt_code\n",
    "        )\n",
    "        fundamental_df_list.append(_fundamental_df)"
   ]
  },
  {
   "cell_type": "code",
   "execution_count": 10,
   "metadata": {},
   "outputs": [],
   "source": [
    "fundamental_df = pd.concat(fundamental_df_list, axis=0)"
   ]
  },
  {
   "cell_type": "code",
   "execution_count": 23,
   "metadata": {},
   "outputs": [],
   "source": [
    "raw_fundamental_df = fundamental_df.copy()"
   ]
  },
  {
   "cell_type": "code",
   "execution_count": 24,
   "metadata": {},
   "outputs": [],
   "source": [
    "raw_fundamental_df[\"bfefrmtrm_amount\"] = raw_fundamental_df[\"bfefrmtrm_amount\"].fillna(\"-\")\n",
    "raw_fundamental_df[\"frmtrm_amount\"] = raw_fundamental_df[\"frmtrm_amount\"].fillna(\"-\")\n",
    "raw_fundamental_df[\"thstrm_amount\"] = raw_fundamental_df[\"thstrm_amount\"].fillna(\"-\")"
   ]
  },
  {
   "cell_type": "code",
   "execution_count": 25,
   "metadata": {},
   "outputs": [],
   "source": [
    "dart_fundamental_df_pre_proc = DartFundamentalDfPreProc(raw_fundamental_df)"
   ]
  },
  {
   "cell_type": "code",
   "execution_count": 26,
   "metadata": {},
   "outputs": [],
   "source": [
    "cfs_fundamental_df = dart_fundamental_df_pre_proc('CFS')\n",
    "ofs_fundamental_df = dart_fundamental_df_pre_proc('OFS')"
   ]
  },
  {
   "cell_type": "code",
   "execution_count": 28,
   "metadata": {},
   "outputs": [],
   "source": [
    "cfs_fundamental_df.to_csv(\"./data/dart/cfs_fundamental_df.csv\")\n",
    "ofs_fundamental_df.to_csv(\"./data/dart/ofs_fundamental_df.csv\")"
   ]
  },
  {
   "cell_type": "code",
   "execution_count": null,
   "metadata": {},
   "outputs": [],
   "source": []
  }
 ],
 "metadata": {
  "kernelspec": {
   "display_name": "quant_trading",
   "language": "python",
   "name": "python3"
  },
  "language_info": {
   "codemirror_mode": {
    "name": "ipython",
    "version": 3
   },
   "file_extension": ".py",
   "mimetype": "text/x-python",
   "name": "python",
   "nbconvert_exporter": "python",
   "pygments_lexer": "ipython3",
   "version": "3.10.13"
  }
 },
 "nbformat": 4,
 "nbformat_minor": 2
}
