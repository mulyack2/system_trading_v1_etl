{
 "cells": [
  {
   "cell_type": "code",
   "execution_count": 1,
   "metadata": {},
   "outputs": [],
   "source": [
    "import datetime as dt\n",
    "\n",
    "from private import EcosPrivate\n",
    "\n",
    "from etl_tool import EcosBroker, EcosExtractor, EcosPreproc"
   ]
  },
  {
   "cell_type": "code",
   "execution_count": 2,
   "metadata": {},
   "outputs": [
    {
     "data": {
      "text/plain": [
       "<etl_tool.ecos._extractor.EcosExtractor at 0x32250df60>"
      ]
     },
     "execution_count": 2,
     "metadata": {},
     "output_type": "execute_result"
    }
   ],
   "source": [
    "ecos_broker = EcosBroker(EcosPrivate.api_key)\n",
    "ecos_extractor = EcosExtractor(ecos_broker)\n",
    "ecos_extractor"
   ]
  },
  {
   "cell_type": "code",
   "execution_count": 3,
   "metadata": {},
   "outputs": [],
   "source": [
    "end_date = dt.datetime.today()\n",
    "start_date = end_date - dt.timedelta(days=365 * 5)"
   ]
  },
  {
   "cell_type": "code",
   "execution_count": 4,
   "metadata": {},
   "outputs": [],
   "source": [
    "k_bir_df = ecos_extractor.extract_k_bir_df(start_date, end_date)\n",
    "k_lir_df = ecos_extractor.extract_k_lir_df(start_date, end_date)\n",
    "k_dir_df = ecos_extractor.extract_k_dir_df(start_date, end_date)"
   ]
  },
  {
   "cell_type": "code",
   "execution_count": 5,
   "metadata": {},
   "outputs": [],
   "source": [
    "k_m0_df = ecos_extractor.extract_k_m0_df(start_date, end_date)\n",
    "k_m1_df = ecos_extractor.extract_k_m1_df(start_date, end_date)\n",
    "k_m2_df = ecos_extractor.extract_k_m2_df(start_date, end_date)"
   ]
  },
  {
   "cell_type": "code",
   "execution_count": 6,
   "metadata": {},
   "outputs": [],
   "source": [
    "k_unemploy_df = ecos_extractor.extract_k_unemploy_df(start_date, end_date)"
   ]
  },
  {
   "cell_type": "code",
   "execution_count": 7,
   "metadata": {},
   "outputs": [],
   "source": [
    "ecos_preproc = EcosPreproc()"
   ]
  },
  {
   "cell_type": "code",
   "execution_count": 8,
   "metadata": {},
   "outputs": [],
   "source": [
    "k_bir_df_ = ecos_preproc(k_bir_df, \"%Y%m\", \"bir\")\n",
    "k_lir_df_ = ecos_preproc(k_bir_df, \"%Y%m\", \"lir\")\n",
    "k_dir_df_ = ecos_preproc(k_bir_df, \"%Y%m\", \"dir\")"
   ]
  },
  {
   "cell_type": "code",
   "execution_count": 9,
   "metadata": {},
   "outputs": [],
   "source": [
    "k_m0_df_ = ecos_preproc(k_m0_df, \"%Y%m\", \"bir\")\n",
    "k_m1_df_ = ecos_preproc(k_m1_df, \"%Y%m\", \"lir\")\n",
    "k_m2_df_ = ecos_preproc(k_m2_df, \"%Y%m\", \"dir\")"
   ]
  },
  {
   "cell_type": "code",
   "execution_count": 10,
   "metadata": {},
   "outputs": [],
   "source": [
    "k_unemploy_df_ = ecos_preproc(k_unemploy_df, \"%Y%m\", \"unemploy\")"
   ]
  },
  {
   "cell_type": "code",
   "execution_count": 12,
   "metadata": {},
   "outputs": [],
   "source": [
    "k_bir_df_.to_csv(\"./data/ecos/k_bir_df.csv\")\n",
    "k_lir_df_.to_csv(\"./data/ecos/k_lir_df.csv\")\n",
    "k_dir_df_.to_csv(\"./data/ecos/k_dir_df.csv\")\n",
    "\n",
    "k_m0_df_.to_csv(\"./data/ecos/k_m0_df.csv\")\n",
    "k_m1_df_.to_csv(\"./data/ecos/k_m1_df.csv\")\n",
    "k_m2_df_.to_csv(\"./data/ecos/k_m2_df.csv\")"
   ]
  },
  {
   "cell_type": "code",
   "execution_count": null,
   "metadata": {},
   "outputs": [],
   "source": []
  }
 ],
 "metadata": {
  "kernelspec": {
   "display_name": "quant_trading",
   "language": "python",
   "name": "python3"
  },
  "language_info": {
   "codemirror_mode": {
    "name": "ipython",
    "version": 3
   },
   "file_extension": ".py",
   "mimetype": "text/x-python",
   "name": "python",
   "nbconvert_exporter": "python",
   "pygments_lexer": "ipython3",
   "version": "3.10.13"
  }
 },
 "nbformat": 4,
 "nbformat_minor": 2
}
