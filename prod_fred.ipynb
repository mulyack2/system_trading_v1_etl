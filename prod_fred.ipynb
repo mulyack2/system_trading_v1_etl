{
 "cells": [
  {
   "cell_type": "code",
   "execution_count": 1,
   "metadata": {},
   "outputs": [],
   "source": [
    "import datetime as dt\n",
    "from private import FredPrivate\n",
    "\n",
    "from etl_tool import FredBroker, FredExtractor, FredPreproc"
   ]
  },
  {
   "cell_type": "code",
   "execution_count": 2,
   "metadata": {},
   "outputs": [
    {
     "data": {
      "text/plain": [
       "<etl_tool.fred._extractor.FredExtractor at 0x318c0ea10>"
      ]
     },
     "execution_count": 2,
     "metadata": {},
     "output_type": "execute_result"
    }
   ],
   "source": [
    "fred_broker = FredBroker(FredPrivate.api_key)\n",
    "fred_extractor = FredExtractor(fred_broker)\n",
    "fred_extractor"
   ]
  },
  {
   "cell_type": "code",
   "execution_count": 3,
   "metadata": {},
   "outputs": [],
   "source": [
    "end_date = dt.datetime.today()"
   ]
  },
  {
   "cell_type": "code",
   "execution_count": 4,
   "metadata": {},
   "outputs": [],
   "source": [
    "us_bir_df = fred_extractor.extract_us_bir_df(end_date)\n",
    "us_dir_df = fred_extractor.extract_us_dir_df(end_date)\n",
    "us_lir_df = fred_extractor.extract_us_lir_df(end_date)"
   ]
  },
  {
   "cell_type": "code",
   "execution_count": 5,
   "metadata": {},
   "outputs": [],
   "source": [
    "us_m0_df = fred_extractor.extract_us_m0_df(end_date)\n",
    "us_m1_df = fred_extractor.extract_us_m1_df(end_date)\n",
    "us_m2_df = fred_extractor.extract_us_m2_df(end_date)"
   ]
  },
  {
   "cell_type": "code",
   "execution_count": 6,
   "metadata": {},
   "outputs": [],
   "source": [
    "us_unemploy_df = fred_extractor.extract_us_unemploy_df(end_date)"
   ]
  },
  {
   "cell_type": "code",
   "execution_count": 7,
   "metadata": {},
   "outputs": [],
   "source": [
    "fred_preproc = FredPreproc()"
   ]
  },
  {
   "cell_type": "code",
   "execution_count": 8,
   "metadata": {},
   "outputs": [],
   "source": [
    "us_bir_df_ = fred_preproc(us_bir_df,\"bir\")\n",
    "us_dir_df_ = fred_preproc(us_dir_df,\"dir\")\n",
    "us_lir_df_ = fred_preproc(us_lir_df,\"lir\")"
   ]
  },
  {
   "cell_type": "code",
   "execution_count": 9,
   "metadata": {},
   "outputs": [],
   "source": [
    "us_m0_df_ = fred_preproc(us_m0_df, \"m0\")\n",
    "us_m1_df_ = fred_preproc(us_m1_df, \"m1\")\n",
    "us_m2_df_ = fred_preproc(us_m2_df, \"m2\")"
   ]
  },
  {
   "cell_type": "code",
   "execution_count": 10,
   "metadata": {},
   "outputs": [],
   "source": [
    "us_bir_df_.to_csv(\"./data/fred/us_bir_df.csv\")\n",
    "us_dir_df_.to_csv(\"./data/fred/us_dir_df.csv\")\n",
    "us_lir_df_.to_csv(\"./data/fred/us_lir_df.csv\")\n",
    "us_m0_df_.to_csv(\"./data/fred/us_m0_df.csv\")\n",
    "us_m1_df_.to_csv(\"./data/fred/us_m1_df.csv\")\n",
    "us_m2_df_.to_csv(\"./data/fred/us_m2_df.csv\")"
   ]
  },
  {
   "cell_type": "code",
   "execution_count": null,
   "metadata": {},
   "outputs": [],
   "source": []
  }
 ],
 "metadata": {
  "kernelspec": {
   "display_name": "quant_trading",
   "language": "python",
   "name": "python3"
  },
  "language_info": {
   "codemirror_mode": {
    "name": "ipython",
    "version": 3
   },
   "file_extension": ".py",
   "mimetype": "text/x-python",
   "name": "python",
   "nbconvert_exporter": "python",
   "pygments_lexer": "ipython3",
   "version": "3.10.13"
  }
 },
 "nbformat": 4,
 "nbformat_minor": 2
}
